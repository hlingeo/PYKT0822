{
 "cells": [
  {
   "cell_type": "code",
   "execution_count": null,
   "metadata": {},
   "outputs": [],
   "source": [
    "import numpy as np\n",
    "from keras.layers import Dense\n",
    "from keras.models import Sequential\n",
    "import os\n",
    "import matplotlib.pyplot as plt\n",
    "from keras.wrappers.scikit_learn import KerasClassifier\n",
    "from sklearn.model_selection import \\\n",
    "    StratifiedKFold, cross_val_score, GridSearchCV\n",
    "\n",
    "dataset1 = np.loadtxt(\"data/diabetes.csv\",\n",
    "                      delimiter=\",\",\n",
    "                      skiprows=1)\n",
    "print(dataset1.shape)\n",
    "inputList = dataset1[:, 0:8]\n",
    "resultList = dataset1[:, 8]\n",
    "\n",
    "\n",
    "def createModel(optimizer='adam', init='uniform'):\n",
    "    # global model\n",
    "    model = Sequential()\n",
    "    model.add(Dense(14, kernel_initializer=init,\n",
    "                    input_dim=8, activation='relu'))\n",
    "    model.add(Dense(8, activation='relu'))\n",
    "    model.add(Dense(1, activation='sigmoid'))\n",
    "    model.compile(loss='binary_crossentropy',\n",
    "                  optimizer=optimizer,\n",
    "                  metrics=['accuracy'])\n",
    "    model.summary()\n",
    "    return model\n",
    "\n",
    "\n",
    "model2 = KerasClassifier(build_fn=createModel, verbose=0)\n",
    "optimizers = ['adam', 'rmsprop', 'sgd']\n",
    "inits = ['normal', 'uniform']\n",
    "epochs = [50, 100, 150]\n",
    "batches = [5, 10, 15]\n",
    "param_grid = dict(optimizer=optimizers,\n",
    "                  epochs=epochs,\n",
    "                  batch_size=batches,\n",
    "                  init=inits)\n",
    "grid = GridSearchCV(estimator=model2, param_grid=param_grid)\n",
    "grid_result = grid.fit(inputList, resultList)\n"
   ]
  },
  {
   "cell_type": "code",
   "execution_count": null,
   "metadata": {},
   "outputs": [],
   "source": [
    "grid_result.best_score_\n"
   ]
  },
  {
   "cell_type": "code",
   "execution_count": null,
   "metadata": {},
   "outputs": [],
   "source": [
    " grid_result.best_params_\n"
   ]
  },
  {
   "cell_type": "code",
   "execution_count": null,
   "metadata": {},
   "outputs": [],
   "source": [
    "means = grid_result.cv_results_['mean_test_score']\n",
    "stds = grid_result.cv_results_['std_test_score']\n",
    "params = grid_result.cv_results_['params']\n",
    "for mean, std, param in zip(means, stds, params):\n",
    "    print(\"%f(%f with %r)\"%(mean, std, param))"
   ]
  },
  {
   "cell_type": "code",
   "execution_count": null,
   "metadata": {},
   "outputs": [],
   "source": []
  }
 ],
 "metadata": {
  "kernelspec": {
   "display_name": "Python 3",
   "language": "python",
   "name": "python3"
  },
  "language_info": {
   "codemirror_mode": {
    "name": "ipython",
    "version": 3
   },
   "file_extension": ".py",
   "mimetype": "text/x-python",
   "name": "python",
   "nbconvert_exporter": "python",
   "pygments_lexer": "ipython3",
   "version": "3.7.7"
  }
 },
 "nbformat": 4,
 "nbformat_minor": 4
}
